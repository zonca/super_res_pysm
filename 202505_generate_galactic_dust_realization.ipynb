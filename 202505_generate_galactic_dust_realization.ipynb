{
 "cells": [
  {
   "cell_type": "markdown",
   "id": "0",
   "metadata": {},
   "source": [
    "# Galactic dust realization"
   ]
  },
  {
   "cell_type": "markdown",
   "id": "1",
   "metadata": {},
   "source": [
    "**NOTE**: an executed version of this notebooks can be find [here](https://gist.github.com/javierhndev/b58920472e7906110585fb6cb6b92b74)"
   ]
  },
  {
   "cell_type": "markdown",
   "id": "2",
   "metadata": {},
   "source": [
    "In this notebook we run PySM to generate a galactic dust map and analyze that map using the cl spectrum."
   ]
  },
  {
   "cell_type": "markdown",
   "id": "3",
   "metadata": {},
   "source": [
    "Then we check the impact of the following:\n",
    "- Lower resolution map.\n",
    "- From sky map to 2D cartesian.\n",
    "- Cropped image.\n",
    "- Save and read image file (using HDF to save wcs info)."
   ]
  },
  {
   "cell_type": "code",
   "execution_count": null,
   "id": "4",
   "metadata": {},
   "outputs": [],
   "source": [
    "# pip install numpy==1.26.4 scipy==1.13.1 pixell==0.26.0\n",
    "#%pip install pysm3[test] healpy"
   ]
  },
  {
   "cell_type": "code",
   "execution_count": null,
   "id": "5",
   "metadata": {},
   "outputs": [],
   "source": [
    "import pysm3\n",
    "from matplotlib import pyplot as plt\n",
    "from matplotlib.image import imread\n",
    "import numpy as np\n",
    "import pixell\n",
    "from pysm3 import units as u\n",
    "import healpy as hp\n",
    "from PIL import Image"
   ]
  },
  {
   "cell_type": "markdown",
   "id": "6",
   "metadata": {},
   "source": [
    "## Define the resolution"
   ]
  },
  {
   "cell_type": "code",
   "execution_count": null,
   "id": "7",
   "metadata": {},
   "outputs": [],
   "source": [
    "nside = 256  # higher for high resolution\n",
    "healpix_reso = hp.nside2resol(nside) * u.radian\n",
    "healpix_reso.to(u.arcmin)"
   ]
  },
  {
   "cell_type": "code",
   "execution_count": null,
   "id": "8",
   "metadata": {},
   "outputs": [],
   "source": [
    "npix = hp.nside2npix(nside)\n",
    "print(npix / 1e6, \"Mpix\")"
   ]
  },
  {
   "cell_type": "markdown",
   "id": "9",
   "metadata": {},
   "source": [
    "## PySM simulation"
   ]
  },
  {
   "cell_type": "code",
   "execution_count": null,
   "id": "10",
   "metadata": {},
   "outputs": [],
   "source": [
    "seed = 101"
   ]
  },
  {
   "cell_type": "code",
   "execution_count": null,
   "id": "11",
   "metadata": {},
   "outputs": [],
   "source": [
    "dust = pysm3.ModifiedBlackBodyRealization(\n",
    "    nside=nside,\n",
    "    amplitude_modulation_temp_alm=\"dust_gnilc/raw/gnilc_dust_temperature_modulation_alms_lmax768.fits.gz\",\n",
    "    amplitude_modulation_pol_alm=\"dust_gnilc/raw/gnilc_dust_polarization_modulation_alms_lmax768.fits.gz\",\n",
    "    largescale_alm=\"dust_gnilc/raw/gnilc_dust_largescale_template_logpoltens_alm_nside2048_lmax1024_complex64.fits.gz\",\n",
    "    small_scale_cl=\"dust_gnilc/raw/gnilc_dust_small_scales_logpoltens_cl_lmax16384.fits.gz\",\n",
    "    largescale_alm_mbb_index=\"dust_gnilc/raw/gnilc_dust_largescale_template_beta_alm_nside2048_lmax1024.fits.gz\",\n",
    "    small_scale_cl_mbb_index=\"dust_gnilc/raw/gnilc_dust_small_scales_beta_cl_lmax16384_2023.06.06.fits.gz\",\n",
    "    largescale_alm_mbb_temperature=\"dust_gnilc/raw/gnilc_dust_largescale_template_Td_alm_nside2048_lmax1024.fits.gz\",\n",
    "    small_scale_cl_mbb_temperature=\"dust_gnilc/raw/gnilc_dust_small_scales_Td_cl_lmax16384_2023.06.06.fits.gz\",\n",
    "    freq_ref=\"353 GHz\",\n",
    "    seeds=[seed, seed + 1000, seed + 2000],\n",
    "    max_nside=8192,\n",
    ")"
   ]
  },
  {
   "cell_type": "code",
   "execution_count": null,
   "id": "12",
   "metadata": {},
   "outputs": [],
   "source": [
    "sky = pysm3.Sky(nside=nside, component_objects=[dust])"
   ]
  },
  {
   "cell_type": "code",
   "execution_count": null,
   "id": "13",
   "metadata": {},
   "outputs": [],
   "source": [
    "freq = 353 * u.GHz"
   ]
  },
  {
   "cell_type": "code",
   "execution_count": null,
   "id": "14",
   "metadata": {},
   "outputs": [],
   "source": [
    "m = sky.get_emission(freq)"
   ]
  },
  {
   "cell_type": "code",
   "execution_count": null,
   "id": "15",
   "metadata": {},
   "outputs": [],
   "source": [
    "hp.mollview(m[0], max=1e3)"
   ]
  },
  {
   "cell_type": "markdown",
   "id": "16",
   "metadata": {},
   "source": [
    "### alm and cl calculation"
   ]
  },
  {
   "cell_type": "code",
   "execution_count": null,
   "id": "17",
   "metadata": {},
   "outputs": [],
   "source": [
    "alm=hp.map2alm(m[0])\n",
    "cl=pixell.curvedsky.alm2cl(alm)"
   ]
  },
  {
   "cell_type": "code",
   "execution_count": null,
   "id": "18",
   "metadata": {},
   "outputs": [],
   "source": [
    "plt.plot(cl)\n",
    "plt.xscale('log')\n",
    "plt.yscale('log')\n",
    "plt.xlabel('l')\n",
    "plt.ylabel('Spectrum')\n",
    "plt.title(r'$c_l$ spectrum')"
   ]
  },
  {
   "cell_type": "markdown",
   "id": "19",
   "metadata": {},
   "source": [
    "# Low resolution image"
   ]
  },
  {
   "cell_type": "code",
   "execution_count": null,
   "id": "20",
   "metadata": {},
   "outputs": [],
   "source": [
    "nside_lowres = 128  # \n",
    "seed=5\n",
    "#pysm simulation\n",
    "dust_lowres = pysm3.ModifiedBlackBodyRealization(\n",
    "    nside=nside_lowres,\n",
    "    amplitude_modulation_temp_alm=\"dust_gnilc/raw/gnilc_dust_temperature_modulation_alms_lmax768.fits.gz\",\n",
    "    amplitude_modulation_pol_alm=\"dust_gnilc/raw/gnilc_dust_polarization_modulation_alms_lmax768.fits.gz\",\n",
    "    largescale_alm=\"dust_gnilc/raw/gnilc_dust_largescale_template_logpoltens_alm_nside2048_lmax1024_complex64.fits.gz\",\n",
    "    small_scale_cl=\"dust_gnilc/raw/gnilc_dust_small_scales_logpoltens_cl_lmax16384.fits.gz\",\n",
    "    largescale_alm_mbb_index=\"dust_gnilc/raw/gnilc_dust_largescale_template_beta_alm_nside2048_lmax1024.fits.gz\",\n",
    "    small_scale_cl_mbb_index=\"dust_gnilc/raw/gnilc_dust_small_scales_beta_cl_lmax16384_2023.06.06.fits.gz\",\n",
    "    largescale_alm_mbb_temperature=\"dust_gnilc/raw/gnilc_dust_largescale_template_Td_alm_nside2048_lmax1024.fits.gz\",\n",
    "    small_scale_cl_mbb_temperature=\"dust_gnilc/raw/gnilc_dust_small_scales_Td_cl_lmax16384_2023.06.06.fits.gz\",\n",
    "    freq_ref=\"353 GHz\",\n",
    "    seeds=[seed, seed + 1000, seed + 2000],\n",
    "    max_nside=8192,\n",
    ")\n",
    "\n",
    "sky_lowres = pysm3.Sky(nside=nside_lowres, component_objects=[dust_lowres])\n",
    "\n",
    "m_lowres = sky_lowres.get_emission(freq)"
   ]
  },
  {
   "cell_type": "code",
   "execution_count": null,
   "id": "21",
   "metadata": {},
   "outputs": [],
   "source": [
    "alm_lowres=hp.map2alm(m_lowres[0])\n",
    "cl_lowres=pixell.curvedsky.alm2cl(alm_lowres)"
   ]
  },
  {
   "cell_type": "code",
   "execution_count": null,
   "id": "22",
   "metadata": {},
   "outputs": [],
   "source": [
    "plt.plot(cl,label='sky map')\n",
    "plt.plot(cl_lowres,linestyle='--',label='sky map (lower resolution)')\n",
    "#plt.plot(cl_car,label='2D map')\n",
    "#plt.plot(cl_car_crop,label='2D map cropped')\n",
    "plt.xscale('log')\n",
    "plt.yscale('log')\n",
    "plt.xlabel('l')\n",
    "plt.ylabel('Spectrum')\n",
    "plt.title(r'$c_l$ spectrum')\n",
    "plt.ylim(1e-3,1e6)\n",
    "plt.legend()"
   ]
  },
  {
   "cell_type": "code",
   "execution_count": null,
   "id": "23",
   "metadata": {},
   "outputs": [],
   "source": []
  },
  {
   "cell_type": "code",
   "execution_count": null,
   "id": "24",
   "metadata": {},
   "outputs": [],
   "source": []
  },
  {
   "cell_type": "markdown",
   "id": "25",
   "metadata": {},
   "source": [
    "## Convert sky map to 2D"
   ]
  },
  {
   "cell_type": "code",
   "execution_count": null,
   "id": "26",
   "metadata": {},
   "outputs": [],
   "source": [
    "car_reso = (np.pi / np.round(np.pi / healpix_reso.value)) * u.radian\n",
    "print(healpix_reso.to(u.arcmin), car_reso.to(u.arcmin))"
   ]
  },
  {
   "cell_type": "code",
   "execution_count": null,
   "id": "27",
   "metadata": {},
   "outputs": [],
   "source": [
    "pixell.__version__"
   ]
  },
  {
   "cell_type": "code",
   "execution_count": null,
   "id": "28",
   "metadata": {},
   "outputs": [],
   "source": [
    "m_car = pysm3.apply_smoothing_and_coord_transform(\n",
    "    m, output_car_resol=car_reso, return_healpix=False, return_car=True\n",
    ")"
   ]
  },
  {
   "cell_type": "code",
   "execution_count": null,
   "id": "29",
   "metadata": {},
   "outputs": [],
   "source": [
    "m_car.shape"
   ]
  },
  {
   "cell_type": "code",
   "execution_count": null,
   "id": "30",
   "metadata": {},
   "outputs": [],
   "source": [
    "plt.imshow(m_car[0,:,:], vmin=0, vmax=700, origin=\"lower\")"
   ]
  },
  {
   "cell_type": "code",
   "execution_count": null,
   "id": "31",
   "metadata": {},
   "outputs": [],
   "source": [
    "def get_cl_from_pixell_map(imap,lmax):\n",
    "    # get an apodized mask, multiply the map before doing map2alm\n",
    "    taper_mask = pixell.enmap.apod(pixell.enmap.ones(imap.shape, imap.wcs), width=100)\n",
    "    alm_taper = pixell.curvedsky.map2alm(taper_mask * imap, lmax=lmax)\n",
    "\n",
    "    # get the correction factor that accounts for the power lost due to only observing a\n",
    "    # fraction of the sky\n",
    "    # enmap.pixsizemap is a map of all the physical pixel areas in steradians\n",
    "    w2 = np.sum(taper_mask.pixsizemap() * taper_mask**2) / (4*np.pi)\n",
    "\n",
    "    #alm = pixell.curvedsky.map2alm(imap,lmax=lmax)\n",
    "    # squaring and averaging over m is done by the alm2cl function\n",
    "    cl=pixell.curvedsky.alm2cl(alm_taper)/w2\n",
    "    return cl"
   ]
  },
  {
   "cell_type": "markdown",
   "id": "32",
   "metadata": {},
   "source": [
    "## Calculate the cl from the 2D map"
   ]
  },
  {
   "cell_type": "code",
   "execution_count": null,
   "id": "33",
   "metadata": {},
   "outputs": [],
   "source": [
    "lmax=3*nside-1\n",
    "print('lmax is:',lmax)\n",
    "print('nside is:',nside)"
   ]
  },
  {
   "cell_type": "code",
   "execution_count": null,
   "id": "34",
   "metadata": {},
   "outputs": [],
   "source": [
    "#alm_car = pixell.curvedsky.map2alm(m_car,lmax=lmax)"
   ]
  },
  {
   "cell_type": "code",
   "execution_count": null,
   "id": "35",
   "metadata": {},
   "outputs": [],
   "source": [
    "#reconstruct the sky image from the 2D alm\n",
    "#hp.mollview(hp.alm2map(alm_car, nside=nside)[0], max=1e3)"
   ]
  },
  {
   "cell_type": "code",
   "execution_count": null,
   "id": "36",
   "metadata": {},
   "outputs": [],
   "source": [
    "#calculate the cl from the 2D map\n",
    "#cl_car=pixell.curvedsky.alm2cl(alm_car[0])\n",
    "cl_car=get_cl_from_pixell_map(m_car[0],lmax)"
   ]
  },
  {
   "cell_type": "code",
   "execution_count": null,
   "id": "37",
   "metadata": {},
   "outputs": [],
   "source": [
    "plt.plot(cl,label='sky map')\n",
    "plt.plot(cl_car,label='2D map')\n",
    "plt.xscale('log')\n",
    "plt.yscale('log')\n",
    "plt.xlabel('l')\n",
    "plt.ylabel('Spectrum')\n",
    "plt.title(r'$c_l$ spectrum')\n",
    "plt.ylim(1e-3,1e6)\n",
    "plt.legend()"
   ]
  },
  {
   "cell_type": "markdown",
   "id": "38",
   "metadata": {},
   "source": [
    "## Crop image to a a square centered in the middle"
   ]
  },
  {
   "cell_type": "code",
   "execution_count": null,
   "id": "39",
   "metadata": {},
   "outputs": [],
   "source": [
    "img_size=512\n",
    "start_x=int(len(m_car[0,0,:])/2-img_size/2)#500\n",
    "start_y=int(len(m_car[0,:,0])/2-img_size/2)#\n",
    "print('The image starts at x',start_x,'and y ',start_y)"
   ]
  },
  {
   "cell_type": "code",
   "execution_count": null,
   "id": "40",
   "metadata": {},
   "outputs": [],
   "source": [
    "crop_image=m_car[0,start_y:start_y+img_size,start_x:start_x+img_size]"
   ]
  },
  {
   "cell_type": "code",
   "execution_count": null,
   "id": "41",
   "metadata": {},
   "outputs": [],
   "source": [
    "plt.imshow(crop_image, vmin=0, vmax=700, origin=\"lower\")"
   ]
  },
  {
   "cell_type": "code",
   "execution_count": null,
   "id": "42",
   "metadata": {},
   "outputs": [],
   "source": [
    "#alm_car_crop = pixell.curvedsky.map2alm(crop_image,lmax=lmax)\n",
    "cl_car_crop=get_cl_from_pixell_map(crop_image,lmax)#pixell.curvedsky.alm2cl(alm_car_crop)"
   ]
  },
  {
   "cell_type": "code",
   "execution_count": null,
   "id": "43",
   "metadata": {},
   "outputs": [],
   "source": [
    "plt.plot(cl,label='sky map')\n",
    "plt.plot(cl_car,label='2D map')\n",
    "plt.plot(cl_car_crop,label='2D map cropped')\n",
    "plt.xscale('log')\n",
    "plt.yscale('log')\n",
    "plt.xlabel('l')\n",
    "plt.ylabel('Spectrum')\n",
    "plt.title(r'$c_l$ spectrum')\n",
    "plt.ylim(1e-3,1e6)\n",
    "plt.legend()"
   ]
  },
  {
   "cell_type": "markdown",
   "id": "44",
   "metadata": {},
   "source": [
    "### Save image to file"
   ]
  },
  {
   "cell_type": "code",
   "execution_count": null,
   "id": "45",
   "metadata": {},
   "outputs": [],
   "source": [
    "crop_image.shape"
   ]
  },
  {
   "cell_type": "code",
   "execution_count": null,
   "id": "46",
   "metadata": {},
   "outputs": [],
   "source": [
    "#saving this way (as a png) will lose the wcs\n",
    "fig = plt.figure(frameon=False)\n",
    "plt.imshow(crop_image, vmin=0, vmax=1000, origin=\"lower\")\n",
    "plt.axis('off')\n",
    "#fig.savefig('out.png', bbox_inches='tight', pad_inches=0)\n",
    "plt.imsave(fname='out.png', arr=crop_image, vmin=0, vmax=1000, origin=\"lower\", format='png') #imsave save the array \"as is\""
   ]
  },
  {
   "cell_type": "code",
   "execution_count": null,
   "id": "47",
   "metadata": {},
   "outputs": [],
   "source": [
    "#save the map (and wcs)\n",
    "file_map_name='amap.hdf'\n",
    "pixell.enmap.write_map(file_map_name,crop_image,fmt='hdf')"
   ]
  },
  {
   "cell_type": "markdown",
   "id": "48",
   "metadata": {},
   "source": [
    "## Read the data from the file"
   ]
  },
  {
   "cell_type": "code",
   "execution_count": null,
   "id": "49",
   "metadata": {},
   "outputs": [],
   "source": [
    "#this can read the image but wcs cannot be read from a png\n",
    "img = imread('out.png')\n",
    "plt.imshow(img)"
   ]
  },
  {
   "cell_type": "markdown",
   "id": "50",
   "metadata": {},
   "source": [
    "### Read the map from the HDF file (includes a wcs)"
   ]
  },
  {
   "cell_type": "code",
   "execution_count": null,
   "id": "51",
   "metadata": {},
   "outputs": [],
   "source": [
    "read_map= pixell.enmap.read_map(file_map_name,fmt='hdf')"
   ]
  },
  {
   "cell_type": "code",
   "execution_count": null,
   "id": "52",
   "metadata": {},
   "outputs": [],
   "source": [
    "#calculate the cl from the read image\n",
    "cl_car_img_file=get_cl_from_pixell_map(read_map,lmax)#pixell.curvedsky.alm2cl(pixell.curvedsky.map2alm(img,lmax=lmax))"
   ]
  },
  {
   "cell_type": "code",
   "execution_count": null,
   "id": "53",
   "metadata": {},
   "outputs": [],
   "source": [
    "plt.plot(cl,label='sky map')\n",
    "plt.plot(cl_car,label='2D map')\n",
    "plt.plot(cl_car_crop,label='2D map cropped')\n",
    "plt.plot(cl_car_img_file,label='2D map cropped (from file)')\n",
    "plt.xscale('log')\n",
    "plt.yscale('log')\n",
    "plt.xlabel('l')\n",
    "plt.ylabel('Spectrum')\n",
    "plt.title(r'$c_l$ spectrum')\n",
    "plt.ylim(1e-3,1e6)\n",
    "plt.legend()"
   ]
  },
  {
   "cell_type": "code",
   "execution_count": null,
   "id": "54",
   "metadata": {},
   "outputs": [],
   "source": []
  },
  {
   "cell_type": "markdown",
   "id": "55",
   "metadata": {},
   "source": [
    "### Output monochromatic figure"
   ]
  },
  {
   "cell_type": "code",
   "execution_count": null,
   "id": "56",
   "metadata": {},
   "outputs": [],
   "source": [
    "#scale the array to 0-255 (need it to create the image with pillow uint8)\n",
    "img_scaled = (crop_image /crop_image.max()) * 255\n",
    "img_scaled= img_scaled.astype(np.uint8)"
   ]
  },
  {
   "cell_type": "code",
   "execution_count": null,
   "id": "57",
   "metadata": {},
   "outputs": [],
   "source": [
    "#create the pillow image from the array\n",
    "img_pil=Image.fromarray(img_scaled)\n",
    "#flip the image as we did with the 'origin=lower' in pyplot\n",
    "flip_img=img_pil.transpose(Image.FLIP_TOP_BOTTOM)\n",
    "#write the image monochromatic in a png file\n",
    "flip_img.save('out_pillow.png')"
   ]
  },
  {
   "cell_type": "code",
   "execution_count": null,
   "id": "58",
   "metadata": {},
   "outputs": [],
   "source": [
    "flip_img"
   ]
  },
  {
   "cell_type": "code",
   "execution_count": null,
   "id": "59",
   "metadata": {},
   "outputs": [],
   "source": [
    "#read the pillow image\n",
    "img_read = imread('out_pillow.png')\n",
    "plt.imshow(img_read,vmin=0,vmax=0.05)\n",
    "plt.colorbar()"
   ]
  },
  {
   "cell_type": "code",
   "execution_count": null,
   "id": "60",
   "metadata": {},
   "outputs": [],
   "source": []
  }
 ],
 "metadata": {
  "kernelspec": {
   "display_name": "venv_sr_map_generation",
   "language": "python",
   "name": "venv_sr_map_generation"
  },
  "language_info": {
   "codemirror_mode": {
    "name": "ipython",
    "version": 3
   },
   "file_extension": ".py",
   "mimetype": "text/x-python",
   "name": "python",
   "nbconvert_exporter": "python",
   "pygments_lexer": "ipython3",
   "version": "3.12.3"
  }
 },
 "nbformat": 4,
 "nbformat_minor": 5
}
