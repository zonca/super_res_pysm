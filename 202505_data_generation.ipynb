{
 "cells": [
  {
   "cell_type": "markdown",
   "id": "0",
   "metadata": {},
   "source": [
    "**NOTE**: To avoid automatic execution set the 'execute' to False"
   ]
  },
  {
   "cell_type": "code",
   "execution_count": null,
   "id": "1",
   "metadata": {},
   "outputs": [],
   "source": [
    "execute=False"
   ]
  },
  {
   "cell_type": "code",
   "execution_count": null,
   "id": "2",
   "metadata": {},
   "outputs": [],
   "source": []
  },
  {
   "cell_type": "code",
   "execution_count": null,
   "id": "3",
   "metadata": {},
   "outputs": [],
   "source": [
    "import numpy as np\n",
    "import pysm3\n",
    "from pysm3 import units as u\n",
    "import healpy as hp\n",
    "import matplotlib.pyplot as plt\n",
    "\n",
    "import pixell\n",
    "\n",
    "from PIL import Image"
   ]
  },
  {
   "cell_type": "markdown",
   "id": "4",
   "metadata": {},
   "source": [
    "## Define the functions"
   ]
  },
  {
   "cell_type": "code",
   "execution_count": null,
   "id": "5",
   "metadata": {},
   "outputs": [],
   "source": [
    "#PySM simulation\n",
    "def pysm_realiz(nside,seed):\n",
    "    dust = pysm3.ModifiedBlackBodyRealization(\n",
    "        nside=nside,\n",
    "        amplitude_modulation_temp_alm=\"dust_gnilc/raw/gnilc_dust_temperature_modulation_alms_lmax768.fits.gz\",\n",
    "        amplitude_modulation_pol_alm=\"dust_gnilc/raw/gnilc_dust_polarization_modulation_alms_lmax768.fits.gz\",\n",
    "        largescale_alm=\"dust_gnilc/raw/gnilc_dust_largescale_template_logpoltens_alm_nside2048_lmax1024_complex64.fits.gz\",\n",
    "        small_scale_cl=\"dust_gnilc/raw/gnilc_dust_small_scales_logpoltens_cl_lmax16384.fits.gz\",\n",
    "        largescale_alm_mbb_index=\"dust_gnilc/raw/gnilc_dust_largescale_template_beta_alm_nside2048_lmax1024.fits.gz\",\n",
    "        small_scale_cl_mbb_index=\"dust_gnilc/raw/gnilc_dust_small_scales_beta_cl_lmax16384_2023.06.06.fits.gz\",\n",
    "        largescale_alm_mbb_temperature=\"dust_gnilc/raw/gnilc_dust_largescale_template_Td_alm_nside2048_lmax1024.fits.gz\",\n",
    "        small_scale_cl_mbb_temperature=\"dust_gnilc/raw/gnilc_dust_small_scales_Td_cl_lmax16384_2023.06.06.fits.gz\",\n",
    "        freq_ref=\"353 GHz\",\n",
    "        seeds=[seed, seed + 1000, seed + 2000],\n",
    "        max_nside=8192,\n",
    ")\n",
    "    sky = pysm3.Sky(nside=nside, component_objects=[dust])\n",
    "    freq = 353 * u.GHz\n",
    "    m = sky.get_emission(freq)\n",
    "    return m"
   ]
  },
  {
   "cell_type": "code",
   "execution_count": null,
   "id": "6",
   "metadata": {},
   "outputs": [],
   "source": [
    "#transfer the sky map to 2D\n",
    "def sky_to_2D(healpix_reso,m):\n",
    "    car_reso = (np.pi / np.round(np.pi / healpix_reso.value)) * u.radian\n",
    "    #print(healpix_reso.to(u.arcmin), car_reso.to(u.arcmin))\n",
    "\n",
    "    m_car = pysm3.apply_smoothing_and_coord_transform(\n",
    "        m, output_car_resol=car_reso, return_healpix=False, return_car=True\n",
    "    )\n",
    "\n",
    "    #print('map in cartesian shape:',m_car.shape)\n",
    "    return m_car\n"
   ]
  },
  {
   "cell_type": "code",
   "execution_count": null,
   "id": "7",
   "metadata": {},
   "outputs": [],
   "source": [
    "## Crop image to a a square centered in the middle\n",
    "def crop_image_func(m_car,img_size):\n",
    "    start_x=int(len(m_car[0,0,:])/2-img_size/2)#500\n",
    "    start_y=int(len(m_car[0,:,0])/2-img_size/2)#\n",
    "    #print('The image starts at x',start_x,'and y ',start_y)\n",
    "\n",
    "    crop_image=m_car[0,start_y:start_y+img_size,start_x:start_x+img_size]\n",
    "    return crop_image"
   ]
  },
  {
   "cell_type": "code",
   "execution_count": null,
   "id": "8",
   "metadata": {},
   "outputs": [],
   "source": [
    "def get_image(nside,seed,healpix_reso,img_size):\n",
    "    #PySM realization\n",
    "    m = pysm_realiz(nside,seed)\n",
    "    #Transfert sky to 2D\n",
    "    m_car=sky_to_2D(healpix_reso,m)\n",
    "    #crop image\n",
    "    crop_image=crop_image_func(m_car,img_size)\n",
    "    return crop_image"
   ]
  },
  {
   "cell_type": "code",
   "execution_count": null,
   "id": "9",
   "metadata": {},
   "outputs": [],
   "source": [
    "def get_pillow_img(in_image):\n",
    "    #scale the array to 0-255 (need it to create the image with pillow uint8)\n",
    "    img_scaled = (in_image /in_image.max()) * 255\n",
    "    img_scaled= img_scaled.astype(np.uint8)\n",
    "    #create the pillow image from the array\n",
    "    img_pil=Image.fromarray(img_scaled)\n",
    "    #flip the image as we did with the 'origin=lower' in pyplot\n",
    "    flip_img=img_pil.transpose(Image.FLIP_TOP_BOTTOM)\n",
    "    return flip_img\n",
    "    "
   ]
  },
  {
   "cell_type": "code",
   "execution_count": null,
   "id": "10",
   "metadata": {},
   "outputs": [],
   "source": []
  },
  {
   "cell_type": "code",
   "execution_count": null,
   "id": "11",
   "metadata": {},
   "outputs": [],
   "source": [
    "if not execute:\n",
    "    import sys\n",
    "    sys.exit(\"Stoping the execution\")"
   ]
  },
  {
   "cell_type": "markdown",
   "id": "12",
   "metadata": {},
   "source": [
    "# CREATE THE DATASET"
   ]
  },
  {
   "cell_type": "code",
   "execution_count": null,
   "id": "13",
   "metadata": {},
   "outputs": [],
   "source": [
    "dataset_name='256_set2'\n",
    "root_dataset_folder='/home/javierhn/datasets/galactic_dust_realization/'\n",
    "dataset_folder=root_dataset_folder+dataset_name+'/'\n",
    "dataset_folder_test=root_dataset_folder+dataset_name+'_test/'"
   ]
  },
  {
   "cell_type": "markdown",
   "id": "14",
   "metadata": {},
   "source": [
    "### Define the parameters"
   ]
  },
  {
   "cell_type": "code",
   "execution_count": null,
   "id": "15",
   "metadata": {},
   "outputs": [],
   "source": [
    "num_train_images=1000\n",
    "num_test_images=100\n",
    "img_size=256\n",
    "nside = 256  # higher for high resolution\n",
    "healpix_reso = hp.nside2resol(nside) * u.radian\n",
    "npix = hp.nside2npix(nside)\n",
    "print(healpix_reso.to(u.arcmin))\n",
    "print(npix / 1e6, \"Mpix\")"
   ]
  },
  {
   "cell_type": "code",
   "execution_count": null,
   "id": "16",
   "metadata": {},
   "outputs": [],
   "source": [
    "#save a map in HDF to preserve the wcs\n",
    "seed=101 #just some number\n",
    "crop_image=crop_image=get_image(nside,seed,healpix_reso,img_size)\n",
    "file_map_name=root_dataset_folder+dataset_name+'_map.hdf'\n",
    "pixell.enmap.write_map(file_map_name,crop_image,fmt='hdf')"
   ]
  },
  {
   "cell_type": "code",
   "execution_count": null,
   "id": "17",
   "metadata": {},
   "outputs": [],
   "source": []
  },
  {
   "cell_type": "code",
   "execution_count": null,
   "id": "18",
   "metadata": {},
   "outputs": [],
   "source": []
  },
  {
   "cell_type": "code",
   "execution_count": null,
   "id": "19",
   "metadata": {},
   "outputs": [],
   "source": [
    "%%time\n",
    "#create the TRAINING DATA\n",
    "for i in range(num_train_images):\n",
    "    seed=i\n",
    "    crop_image=crop_image=get_image(nside,seed,healpix_reso,img_size)\n",
    "    pil_img=get_pillow_img(crop_image) #convert the image to pillow\n",
    "    file_name=dataset_folder+'{:04d}'.format(i)+'.png'\n",
    "    #plt.imsave(fname=file_name, arr=crop_image, vmin=0, vmax=1000, origin=\"lower\", format='png') #imsave save the array \"as is\"\n",
    "    #write the image monochromatic in a png file\n",
    "    pil_img.save(file_name)"
   ]
  },
  {
   "cell_type": "code",
   "execution_count": null,
   "id": "20",
   "metadata": {},
   "outputs": [],
   "source": [
    "%%time\n",
    "#create the TEST DATA\n",
    "for i in range(num_test_images):\n",
    "    seed=i+num_train_images #to avoid the same seed\n",
    "    crop_image=crop_image=get_image(nside,seed,healpix_reso,img_size)\n",
    "    pil_img=get_pillow_img(crop_image) #convert the image to pillow\n",
    "    file_name=dataset_folder_test+'{:04d}'.format(i)+'.png'\n",
    "    #plt.imsave(fname=file_name, arr=crop_image, vmin=0, vmax=1000, origin=\"lower\", format='png') #imsave save the array \"as is\"\n",
    "    pil_img.save(file_name)"
   ]
  },
  {
   "cell_type": "code",
   "execution_count": null,
   "id": "21",
   "metadata": {},
   "outputs": [],
   "source": []
  }
 ],
 "metadata": {
  "kernelspec": {
   "display_name": "venv_sr_map_generation",
   "language": "python",
   "name": "venv_sr_map_generation"
  },
  "language_info": {
   "codemirror_mode": {
    "name": "ipython",
    "version": 3
   },
   "file_extension": ".py",
   "mimetype": "text/x-python",
   "name": "python",
   "nbconvert_exporter": "python",
   "pygments_lexer": "ipython3",
   "version": "3.12.3"
  }
 },
 "nbformat": 4,
 "nbformat_minor": 5
}
