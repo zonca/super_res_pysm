{
  "cells": [
    {
      "cell_type": "markdown",
      "source": [
        "# Map2alm\n",
        "\n",
        "Run the first cell to install requirements, then comment it out and do a \"Restart and run all\""
      ],
      "metadata": {
        "id": "JfG6JK-hCeRv"
      },
      "id": "JfG6JK-hCeRv"
    },
    {
      "cell_type": "code",
      "execution_count": null,
      "id": "33a80e53-09ab-4d8f-addb-8adc72313a85",
      "metadata": {
        "scrolled": true,
        "id": "33a80e53-09ab-4d8f-addb-8adc72313a85",
        "collapsed": true
      },
      "outputs": [],
      "source": [
        "#%pip install numpy==1.26.4 scipy==1.13.1 pixell==0.26.0 git+https://github.com/galsci/pysm.git"
      ]
    },
    {
      "cell_type": "code",
      "source": [],
      "metadata": {
        "id": "2tymyiFoCdxk"
      },
      "id": "2tymyiFoCdxk",
      "execution_count": null,
      "outputs": []
    },
    {
      "cell_type": "code",
      "execution_count": null,
      "id": "4ea8ab2f-f2e9-4b10-af2a-8a81dad38f5e",
      "metadata": {
        "id": "4ea8ab2f-f2e9-4b10-af2a-8a81dad38f5e"
      },
      "outputs": [],
      "source": [
        "import pysm3\n",
        "from matplotlib import pyplot as plt\n",
        "import numpy as np\n",
        "import pixell\n",
        "from pysm3 import units as u\n",
        "import healpy as hp"
      ]
    },
    {
      "cell_type": "markdown",
      "id": "5e0ea5de-67a7-4758-b0e2-2fd463f42286",
      "metadata": {
        "id": "5e0ea5de-67a7-4758-b0e2-2fd463f42286"
      },
      "source": [
        "## Define the resolution"
      ]
    },
    {
      "cell_type": "code",
      "execution_count": null,
      "id": "f1e7335f-29ea-4c53-8d63-a7022a51b71a",
      "metadata": {
        "id": "f1e7335f-29ea-4c53-8d63-a7022a51b71a"
      },
      "outputs": [],
      "source": [
        "nside = 256  # higher for high resolution\n",
        "healpix_reso = hp.nside2resol(nside) * u.radian\n",
        "healpix_reso.to(u.arcmin)"
      ]
    },
    {
      "cell_type": "code",
      "execution_count": null,
      "id": "b3dd08fc-0a45-4208-8157-a940aec492b0",
      "metadata": {
        "id": "b3dd08fc-0a45-4208-8157-a940aec492b0"
      },
      "outputs": [],
      "source": [
        "npix = hp.nside2npix(nside)\n",
        "print(npix / 1e6, \"Mpix\")"
      ]
    },
    {
      "cell_type": "markdown",
      "id": "1d8c6b4e-592e-442c-9a80-4f52248578d4",
      "metadata": {
        "id": "1d8c6b4e-592e-442c-9a80-4f52248578d4"
      },
      "source": [
        "## PySM simulation"
      ]
    },
    {
      "cell_type": "code",
      "execution_count": null,
      "id": "242e9ef9-482d-4980-aa90-4c33ff26c69f",
      "metadata": {
        "id": "242e9ef9-482d-4980-aa90-4c33ff26c69f"
      },
      "outputs": [],
      "source": [
        "seed = 101"
      ]
    },
    {
      "cell_type": "code",
      "execution_count": null,
      "id": "2650db4f-c2cf-4a2e-990b-ae717dfa8135",
      "metadata": {
        "id": "2650db4f-c2cf-4a2e-990b-ae717dfa8135"
      },
      "outputs": [],
      "source": [
        "dust = pysm3.ModifiedBlackBodyRealization(\n",
        "    nside=nside,\n",
        "    amplitude_modulation_temp_alm=\"dust_gnilc/raw/gnilc_dust_temperature_modulation_alms_lmax768.fits.gz\",\n",
        "    amplitude_modulation_pol_alm=\"dust_gnilc/raw/gnilc_dust_polarization_modulation_alms_lmax768.fits.gz\",\n",
        "    largescale_alm=\"dust_gnilc/raw/gnilc_dust_largescale_template_logpoltens_alm_nside2048_lmax1024_complex64.fits.gz\",\n",
        "    small_scale_cl=\"dust_gnilc/raw/gnilc_dust_small_scales_logpoltens_cl_lmax16384.fits.gz\",\n",
        "    largescale_alm_mbb_index=\"dust_gnilc/raw/gnilc_dust_largescale_template_beta_alm_nside2048_lmax1024.fits.gz\",\n",
        "    small_scale_cl_mbb_index=\"dust_gnilc/raw/gnilc_dust_small_scales_beta_cl_lmax16384_2023.06.06.fits.gz\",\n",
        "    largescale_alm_mbb_temperature=\"dust_gnilc/raw/gnilc_dust_largescale_template_Td_alm_nside2048_lmax1024.fits.gz\",\n",
        "    small_scale_cl_mbb_temperature=\"dust_gnilc/raw/gnilc_dust_small_scales_Td_cl_lmax16384_2023.06.06.fits.gz\",\n",
        "    freq_ref=\"353 GHz\",\n",
        "    seeds=[seed, seed + 1000, seed + 2000],\n",
        "    max_nside=8192,\n",
        ")"
      ]
    },
    {
      "cell_type": "code",
      "execution_count": null,
      "id": "89792e87-48a0-490e-9316-b3e0319367d8",
      "metadata": {
        "id": "89792e87-48a0-490e-9316-b3e0319367d8"
      },
      "outputs": [],
      "source": [
        "sky = pysm3.Sky(nside=nside, component_objects=[dust])"
      ]
    },
    {
      "cell_type": "code",
      "execution_count": null,
      "id": "7557e7d2-98cc-4881-b2fa-90af639239c2",
      "metadata": {
        "id": "7557e7d2-98cc-4881-b2fa-90af639239c2"
      },
      "outputs": [],
      "source": [
        "freq = 353 * u.GHz"
      ]
    },
    {
      "cell_type": "code",
      "execution_count": null,
      "id": "04db5421-5347-4ae5-b9ce-7eed12d2d60c",
      "metadata": {
        "id": "04db5421-5347-4ae5-b9ce-7eed12d2d60c"
      },
      "outputs": [],
      "source": [
        "m = sky.get_emission(freq)"
      ]
    },
    {
      "cell_type": "code",
      "execution_count": null,
      "id": "0bbdfd05-eb1a-4e09-8d96-2ad7cc05cd84",
      "metadata": {
        "id": "0bbdfd05-eb1a-4e09-8d96-2ad7cc05cd84"
      },
      "outputs": [],
      "source": [
        "hp.mollview(m[0], max=1e3)"
      ]
    },
    {
      "cell_type": "markdown",
      "id": "7a68011a-c292-4513-893b-65bbbfcde345",
      "metadata": {
        "id": "7a68011a-c292-4513-893b-65bbbfcde345"
      },
      "source": [
        "### alm and cl calculation"
      ]
    },
    {
      "cell_type": "code",
      "execution_count": null,
      "id": "34abb6fc-9758-46f4-adbc-44b461dc6d3a",
      "metadata": {
        "id": "34abb6fc-9758-46f4-adbc-44b461dc6d3a"
      },
      "outputs": [],
      "source": [
        "alm=hp.map2alm(m[0])\n",
        "cl=pixell.curvedsky.alm2cl(alm)"
      ]
    },
    {
      "cell_type": "code",
      "execution_count": null,
      "id": "4adfc7e9-fcc3-404d-920d-d05c7e61d6e4",
      "metadata": {
        "id": "4adfc7e9-fcc3-404d-920d-d05c7e61d6e4"
      },
      "outputs": [],
      "source": [
        "plt.plot(cl)\n",
        "plt.xscale('log')\n",
        "plt.yscale('log')\n",
        "plt.xlabel('l')\n",
        "plt.ylabel('Spectrum')\n",
        "plt.title(r'$c_l$ spectrum')"
      ]
    },
    {
      "cell_type": "markdown",
      "id": "177833d1-1bfb-4083-80c1-cf92fcecd51a",
      "metadata": {
        "id": "177833d1-1bfb-4083-80c1-cf92fcecd51a"
      },
      "source": [
        "## Convert sky map to 2D"
      ]
    },
    {
      "cell_type": "code",
      "execution_count": null,
      "id": "fa3aaed7-d2bf-48da-a785-ded759a80ca8",
      "metadata": {
        "id": "fa3aaed7-d2bf-48da-a785-ded759a80ca8"
      },
      "outputs": [],
      "source": [
        "car_reso = (np.pi / np.round(np.pi / healpix_reso.value)) * u.radian\n",
        "print(healpix_reso.to(u.arcmin), car_reso.to(u.arcmin))"
      ]
    },
    {
      "cell_type": "code",
      "source": [
        "pixell.__version__"
      ],
      "metadata": {
        "id": "-FiBZfrC7xgq"
      },
      "id": "-FiBZfrC7xgq",
      "execution_count": null,
      "outputs": []
    },
    {
      "cell_type": "code",
      "execution_count": null,
      "id": "d6552ebe-d26f-4feb-9967-e0a605cb54a6",
      "metadata": {
        "id": "d6552ebe-d26f-4feb-9967-e0a605cb54a6"
      },
      "outputs": [],
      "source": [
        "m_car = pysm3.apply_smoothing_and_coord_transform(\n",
        "    m, output_car_resol=car_reso, return_healpix=False, return_car=True\n",
        ")"
      ]
    },
    {
      "cell_type": "code",
      "source": [
        "pysm3.__file__"
      ],
      "metadata": {
        "id": "ZIiTWa6k9sRR"
      },
      "id": "ZIiTWa6k9sRR",
      "execution_count": null,
      "outputs": []
    },
    {
      "cell_type": "code",
      "execution_count": null,
      "id": "2d3b1ec9-fb15-4d67-977f-5db3d9eff57a",
      "metadata": {
        "id": "2d3b1ec9-fb15-4d67-977f-5db3d9eff57a"
      },
      "outputs": [],
      "source": [
        "m_car.shape"
      ]
    },
    {
      "cell_type": "code",
      "execution_count": null,
      "id": "44847ab6-c6e1-49af-a890-197c19f765c8",
      "metadata": {
        "id": "44847ab6-c6e1-49af-a890-197c19f765c8"
      },
      "outputs": [],
      "source": [
        "plt.imshow(m_car[0,:,:], vmin=0, vmax=700, origin=\"lower\")"
      ]
    },
    {
      "cell_type": "markdown",
      "id": "f7cd16a6-8071-485b-b9da-c78a19749c1c",
      "metadata": {
        "id": "f7cd16a6-8071-485b-b9da-c78a19749c1c"
      },
      "source": [
        "## Calculate the alm and cl from the 2D map"
      ]
    },
    {
      "cell_type": "code",
      "execution_count": null,
      "id": "5de39627-548d-429a-a0bb-47ec9d6127aa",
      "metadata": {
        "id": "5de39627-548d-429a-a0bb-47ec9d6127aa"
      },
      "outputs": [],
      "source": [
        "lmax=3*nside-1\n",
        "print(lmax)"
      ]
    },
    {
      "cell_type": "code",
      "execution_count": null,
      "id": "229bce04-1133-47e3-a5b6-10dfcdc17cd1",
      "metadata": {
        "id": "229bce04-1133-47e3-a5b6-10dfcdc17cd1"
      },
      "outputs": [],
      "source": [
        "alm = pixell.curvedsky.map2alm(m_car,lmax=lmax)"
      ]
    },
    {
      "cell_type": "code",
      "source": [
        "nside"
      ],
      "metadata": {
        "id": "3GXeblkZBps3"
      },
      "id": "3GXeblkZBps3",
      "execution_count": null,
      "outputs": []
    },
    {
      "cell_type": "code",
      "execution_count": null,
      "id": "3e0994d0-c757-4b25-9b16-1a1f2e9e6a63",
      "metadata": {
        "id": "3e0994d0-c757-4b25-9b16-1a1f2e9e6a63"
      },
      "outputs": [],
      "source": [
        "hp.mollview(hp.alm2map(alm, nside=nside)[0], max=1e3)"
      ]
    },
    {
      "cell_type": "markdown",
      "id": "33e96de8-b291-4d41-845d-de2870635ff7",
      "metadata": {
        "id": "33e96de8-b291-4d41-845d-de2870635ff7"
      },
      "source": [
        "## Crop image to a a square centered in the middle"
      ]
    },
    {
      "cell_type": "code",
      "execution_count": null,
      "id": "a6a46ec7-2d40-47ae-ab46-1010bfc16d6c",
      "metadata": {
        "id": "a6a46ec7-2d40-47ae-ab46-1010bfc16d6c"
      },
      "outputs": [],
      "source": [
        "img_size=512\n",
        "start_x=int(len(m_car[0,0,:])/2-img_size/2)#500\n",
        "start_y=int(len(m_car[0,:,0])/2-img_size/2)#\n",
        "print('The image starts at x',start_x,'and y ',start_y)"
      ]
    },
    {
      "cell_type": "code",
      "execution_count": null,
      "id": "752d1148-e2bf-4e18-bd70-0827a431bd1e",
      "metadata": {
        "id": "752d1148-e2bf-4e18-bd70-0827a431bd1e"
      },
      "outputs": [],
      "source": [
        "crop_image=m_car[0,start_y:start_y+img_size,start_x:start_x+img_size]"
      ]
    },
    {
      "cell_type": "code",
      "execution_count": null,
      "id": "91ffc6aa-8bf3-4096-969e-8b0be4914134",
      "metadata": {
        "id": "91ffc6aa-8bf3-4096-969e-8b0be4914134"
      },
      "outputs": [],
      "source": [
        "plt.imshow(crop_image, vmin=0, vmax=700, origin=\"lower\")"
      ]
    },
    {
      "cell_type": "markdown",
      "id": "4f9c6c51-97a0-4ead-b691-0dd4ccfa9f4b",
      "metadata": {
        "id": "4f9c6c51-97a0-4ead-b691-0dd4ccfa9f4b"
      },
      "source": [
        "### Save image to file"
      ]
    },
    {
      "cell_type": "code",
      "execution_count": null,
      "id": "b9f410f0-b5d7-4cf8-a5c8-d3a6246190ec",
      "metadata": {
        "id": "b9f410f0-b5d7-4cf8-a5c8-d3a6246190ec"
      },
      "outputs": [],
      "source": [
        "crop_image.shape"
      ]
    },
    {
      "cell_type": "code",
      "execution_count": null,
      "id": "761186dd-ba7b-4139-a789-e6f0104b005e",
      "metadata": {
        "id": "761186dd-ba7b-4139-a789-e6f0104b005e"
      },
      "outputs": [],
      "source": [
        "fig = plt.figure(frameon=False)\n",
        "plt.imshow(crop_image, vmin=0, vmax=1000, origin=\"lower\")\n",
        "plt.axis('off')\n",
        "#fig.savefig('out.png', bbox_inches='tight', pad_inches=0)\n",
        "plt.imsave(fname='out.png', arr=crop_image, vmin=0, vmax=1000, origin=\"lower\", format='png') #imsave save the array \"as is\""
      ]
    },
    {
      "cell_type": "code",
      "execution_count": null,
      "id": "1fc4f7c3-c299-4dd0-8432-d0ae3290be94",
      "metadata": {
        "id": "1fc4f7c3-c299-4dd0-8432-d0ae3290be94"
      },
      "outputs": [],
      "source": []
    },
    {
      "cell_type": "code",
      "execution_count": null,
      "id": "3f85bad3-418d-4a08-b6cc-4d203eddbfa9",
      "metadata": {
        "id": "3f85bad3-418d-4a08-b6cc-4d203eddbfa9"
      },
      "outputs": [],
      "source": []
    },
    {
      "cell_type": "code",
      "execution_count": null,
      "id": "3c790c5f-e159-4bbd-9aec-a16e26419184",
      "metadata": {
        "id": "3c790c5f-e159-4bbd-9aec-a16e26419184"
      },
      "outputs": [],
      "source": []
    },
    {
      "cell_type": "code",
      "execution_count": null,
      "id": "6dc33057-acee-454e-bbe8-5c230b08accd",
      "metadata": {
        "id": "6dc33057-acee-454e-bbe8-5c230b08accd"
      },
      "outputs": [],
      "source": [
        "lmax=3*nside-1\n",
        "print(lmax)"
      ]
    },
    {
      "cell_type": "code",
      "execution_count": null,
      "id": "f2d0dabf-1c7c-4818-b55c-60272cfb9d3b",
      "metadata": {
        "id": "f2d0dabf-1c7c-4818-b55c-60272cfb9d3b"
      },
      "outputs": [],
      "source": []
    }
  ],
  "metadata": {
    "kernelspec": {
      "display_name": "venv_sr_map_generation",
      "language": "python",
      "name": "venv_sr_map_generation"
    },
    "language_info": {
      "codemirror_mode": {
        "name": "ipython",
        "version": 3
      },
      "file_extension": ".py",
      "mimetype": "text/x-python",
      "name": "python",
      "nbconvert_exporter": "python",
      "pygments_lexer": "ipython3",
      "version": "3.10.12"
    },
    "colab": {
      "provenance": []
    }
  },
  "nbformat": 4,
  "nbformat_minor": 5
}